{
 "cells": [
  {
   "cell_type": "code",
   "execution_count": 1,
   "metadata": {},
   "outputs": [
    {
     "name": "stdout",
     "output_type": "stream",
     "text": [
      "2.1.4\n"
     ]
    }
   ],
   "source": [
    "import pandas as pd\n",
    "print(pd.__version__)"
   ]
  },
  {
   "cell_type": "code",
   "execution_count": 2,
   "metadata": {},
   "outputs": [
    {
     "name": "stdout",
     "output_type": "stream",
     "text": [
      "Empty DataFrame\n",
      "Columns: []\n",
      "Index: []\n"
     ]
    }
   ],
   "source": [
    "import pandas as pd\n",
    "df = pd.DataFrame()\n",
    "print(df)"
   ]
  },
  {
   "cell_type": "code",
   "execution_count": 5,
   "metadata": {},
   "outputs": [
    {
     "name": "stdout",
     "output_type": "stream",
     "text": [
      "    climateDate     co2  relative_temp\n",
      "0      6/3/1958  315.71           0.10\n",
      "1      6/4/1958  317.45           0.01\n",
      "2      6/5/1958  317.50           0.08\n",
      "3      6/6/1958     NaN          -0.05\n",
      "4      6/7/1958  315.86           0.06\n",
      "..          ...     ...            ...\n",
      "701    6/8/2016  402.27           0.98\n",
      "702    6/9/2016  401.05           0.87\n",
      "703   6/10/2016  401.59           0.89\n",
      "704   6/11/2016  403.55           0.93\n",
      "705   6/12/2016  404.45           0.81\n",
      "\n",
      "[706 rows x 3 columns]\n"
     ]
    }
   ],
   "source": [
    "import pandas as pd \n",
    "df=pd.read_csv('climateData.csv')\n",
    "print(df)"
   ]
  },
  {
   "cell_type": "code",
   "execution_count": 7,
   "metadata": {},
   "outputs": [
    {
     "name": "stdout",
     "output_type": "stream",
     "text": [
      "  climateDate     co2  relative_temp\n",
      "0    6/3/1958  315.71           0.10\n",
      "1    6/4/1958  317.45           0.01\n",
      "2    6/5/1958  317.50           0.08\n",
      "3    6/6/1958     NaN          -0.05\n",
      "4    6/7/1958  315.86           0.06\n",
      "5    6/8/1958  314.93          -0.06\n",
      "6    6/9/1958  313.20          -0.03\n",
      "7   6/10/1958     NaN           0.04\n",
      "8   6/11/1958  313.33           0.02\n",
      "9   6/12/1958  314.67           0.01\n"
     ]
    }
   ],
   "source": [
    "import pandas as pd\n",
    "df=pd.read_csv('climateData.csv')\n",
    "print(df.head(10))"
   ]
  },
  {
   "cell_type": "code",
   "execution_count": 15,
   "metadata": {},
   "outputs": [
    {
     "name": "stdout",
     "output_type": "stream",
     "text": [
      "<bound method NDFrame.tail of     climateDate     co2  relative_temp\n",
      "0      6/3/1958  315.71           0.10\n",
      "1      6/4/1958  317.45           0.01\n",
      "2      6/5/1958  317.50           0.08\n",
      "3      6/6/1958     NaN          -0.05\n",
      "4      6/7/1958  315.86           0.06\n",
      "..          ...     ...            ...\n",
      "701    6/8/2016  402.27           0.98\n",
      "702    6/9/2016  401.05           0.87\n",
      "703   6/10/2016  401.59           0.89\n",
      "704   6/11/2016  403.55           0.93\n",
      "705   6/12/2016  404.45           0.81\n",
      "\n",
      "[706 rows x 3 columns]>\n"
     ]
    }
   ],
   "source": [
    "import pandas as pd\n",
    "df=pd.read_csv('climateData.csv')\n",
    "print(df.tail)"
   ]
  },
  {
   "cell_type": "code",
   "execution_count": 16,
   "metadata": {},
   "outputs": [
    {
     "name": "stdout",
     "output_type": "stream",
     "text": [
      "    climateDate     co2  relative_temp\n",
      "701    6/8/2016  402.27           0.98\n",
      "702    6/9/2016  401.05           0.87\n",
      "703   6/10/2016  401.59           0.89\n",
      "704   6/11/2016  403.55           0.93\n",
      "705   6/12/2016  404.45           0.81\n"
     ]
    }
   ],
   "source": [
    "import pandas as pd\n",
    "df=pd.read_csv('climateData.csv')\n",
    "print(df.tail())"
   ]
  },
  {
   "cell_type": "code",
   "execution_count": 17,
   "metadata": {},
   "outputs": [
    {
     "name": "stdout",
     "output_type": "stream",
     "text": [
      "<class 'pandas.core.frame.DataFrame'>\n",
      "RangeIndex: 706 entries, 0 to 705\n",
      "Data columns (total 3 columns):\n",
      " #   Column         Non-Null Count  Dtype  \n",
      "---  ------         --------------  -----  \n",
      " 0   climateDate    706 non-null    object \n",
      " 1   co2            699 non-null    float64\n",
      " 2   relative_temp  706 non-null    float64\n",
      "dtypes: float64(2), object(1)\n",
      "memory usage: 16.7+ KB\n",
      "None\n"
     ]
    }
   ],
   "source": [
    "import pandas as pd \n",
    "df=pd.read_csv('climateData.csv')\n",
    "print(df.info())"
   ]
  },
  {
   "cell_type": "code",
   "execution_count": 9,
   "metadata": {},
   "outputs": [
    {
     "name": "stdout",
     "output_type": "stream",
     "text": [
      "(706, 3)\n"
     ]
    }
   ],
   "source": [
    "import pandas as pd\n",
    "df=pd.read_csv('climateData.csv')\n",
    "print(df.shape)"
   ]
  },
  {
   "cell_type": "code",
   "execution_count": 11,
   "metadata": {},
   "outputs": [
    {
     "name": "stdout",
     "output_type": "stream",
     "text": [
      "              co2  relative_temp\n",
      "count  699.000000     706.000000\n",
      "mean   352.316481       0.302309\n",
      "std     26.160083       0.305417\n",
      "min    313.200000      -0.360000\n",
      "25%    328.425000       0.050000\n",
      "50%    350.110000       0.290000\n",
      "75%    373.205000       0.550000\n",
      "max    407.720000       1.350000\n"
     ]
    }
   ],
   "source": [
    "import pandas as pd\n",
    "df=pd.read_csv('climateData.csv')\n",
    "print(df.describe())"
   ]
  },
  {
   "cell_type": "code",
   "execution_count": 13,
   "metadata": {},
   "outputs": [
    {
     "name": "stdout",
     "output_type": "stream",
     "text": [
      "False\n"
     ]
    }
   ],
   "source": [
    "import pandas as pd\n",
    "df=pd.isnull('climateData.csv')\n",
    "print(df)"
   ]
  },
  {
   "cell_type": "code",
   "execution_count": 14,
   "metadata": {},
   "outputs": [
    {
     "name": "stdout",
     "output_type": "stream",
     "text": [
      "False\n"
     ]
    }
   ],
   "source": [
    "import pandas as pd\n",
    "df=pd.isna('climateData.csv')\n",
    "print(df)"
   ]
  },
  {
   "cell_type": "code",
   "execution_count": null,
   "metadata": {},
   "outputs": [],
   "source": [
    "df=pd.read_csv('climateData.csv')\n",
    "print(df.describe)"
   ]
  },
  {
   "cell_type": "code",
   "execution_count": null,
   "metadata": {},
   "outputs": [],
   "source": []
  }
 ],
 "metadata": {
  "kernelspec": {
   "display_name": "Python 3",
   "language": "python",
   "name": "python3"
  },
  "language_info": {
   "codemirror_mode": {
    "name": "ipython",
    "version": 3
   },
   "file_extension": ".py",
   "mimetype": "text/x-python",
   "name": "python",
   "nbconvert_exporter": "python",
   "pygments_lexer": "ipython3",
   "version": "3.12.1"
  }
 },
 "nbformat": 4,
 "nbformat_minor": 2
}
